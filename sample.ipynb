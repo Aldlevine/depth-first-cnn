{
 "cells": [
  {
   "cell_type": "code",
   "execution_count": 1,
   "metadata": {},
   "outputs": [],
   "source": [
    "import matplotlib.pyplot as plt\n",
    "import torch\n",
    "import torch.nn.functional as F\n",
    "import torchvision.utils as vutils\n",
    "import torchvision.transforms as T\n",
    "import IPython.display as ipd\n",
    "\n",
    "from model.pixelcnn import PixelCNN\n",
    "\n",
    "ckpt = torch.load(\"runs/x4/ckpts/best.pt\")\n",
    "\n",
    "device = \"cuda\"\n",
    "dtype = torch.bfloat16\n",
    "img_shape = (2, 1, 56, 56)\n",
    "\n",
    "model = PixelCNN(1, 64, 10).to(device).eval()\n",
    "model.load_state_dict(ckpt[\"model_state_dict\"])\n",
    "\n",
    "def scale_img(img: torch.Tensor, scl: int) -> torch.Tensor:\n",
    "    return img.repeat_interleave(scl, -1).repeat_interleave(scl, -2)\n",
    "\n",
    "def to_img(x: torch.Tensor, scale: int = 1, cols: int = 8) -> vutils.Image.Image:\n",
    "    grid = vutils.make_grid(scale_img(x, scale), nrow=cols)\n",
    "    img = T.ToPILImage()(grid / 255)\n",
    "    return img\n",
    "\n",
    "def loop(x: torch.Tensor, count: int, dim: int = 0) -> torch.Tensor:\n",
    "    size = x.shape[dim]\n",
    "    if size > count:\n",
    "        return x.narrow(dim, 0, count)\n",
    "    ts = [1]*dim + [count // size + 1] + [1]*(x.dim() - dim - 1)\n",
    "    x = x.tile(ts)\n",
    "    return x.narrow(dim, 0, count)\n"
   ]
  },
  {
   "cell_type": "code",
   "execution_count": 2,
   "metadata": {},
   "outputs": [
    {
     "name": "stderr",
     "output_type": "stream",
     "text": [
      "                                                             \r"
     ]
    },
    {
     "data": {
      "image/png": "[encoded data removed]",
      "text/plain": [
       "<PIL.Image.Image image mode=RGB size=454x228>"
      ]
     },
     "metadata": {},
     "output_type": "display_data"
    }
   ],
   "source": [
    "with torch.no_grad():\n",
    "    with torch.autocast(device, dtype):  # type: ignore\n",
    "        img = to_img(\n",
    "            model.sample(\n",
    "                shape=img_shape,\n",
    "                aux=model.get_class_aux(\n",
    "                    img_shape[-2:], loop(torch.arange(model._aux_channels), img_shape[0])\n",
    "                ),\n",
    "                depth_first=True,\n",
    "            ),\n",
    "            scale=4,\n",
    "            cols=model.num_classes,\n",
    "        )\n",
    "        ipd.display(img)\n"
   ]
  },
  {
   "cell_type": "code",
   "execution_count": 3,
   "metadata": {},
   "outputs": [
    {
     "name": "stderr",
     "output_type": "stream",
     "text": [
      "                                                             \r"
     ]
    },
    {
     "data": {
      "image/png": "[encoded data removed]",
      "text/plain": [
       "<PIL.Image.Image image mode=RGB size=454x228>"
      ]
     },
     "metadata": {},
     "output_type": "display_data"
    }
   ],
   "source": [
    "with torch.no_grad():\n",
    "    with torch.autocast(device, dtype): # type: ignore\n",
    "        img = to_img(\n",
    "            model.sample(\n",
    "                shape=img_shape,\n",
    "                aux=model.get_class_aux(\n",
    "                    img_shape[-2:], loop(torch.arange(model._aux_channels), img_shape[0])\n",
    "                ),\n",
    "                depth_first=False,\n",
    "            ),\n",
    "            scale=4,\n",
    "            cols=model.num_classes,\n",
    "        )\n",
    "        ipd.display(img)\n"
   ]
  }
 ],
 "metadata": {
  "kernelspec": {
   "display_name": ".venv",
   "language": "python",
   "name": "python3"
  },
  "language_info": {
   "codemirror_mode": {
    "name": "ipython",
    "version": 3
   },
   "file_extension": ".py",
   "mimetype": "text/x-python",
   "name": "python",
   "nbconvert_exporter": "python",
   "pygments_lexer": "ipython3",
   "version": "3.10.6"
  },
  "orig_nbformat": 4
 },
 "nbformat": 4,
 "nbformat_minor": 2
}
