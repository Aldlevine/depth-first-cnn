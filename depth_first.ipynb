{
 "cells": [
  {
   "attachments": {},
   "cell_type": "markdown",
   "metadata": {},
   "source": [
    "# Depth First CNN\n",
    "\n",
    "Supports both depth-first and standard breadth-first 2d convolutions. To use depth-first mode, you must pass in a position to sample for each iteration, and you must iterate manually.\n",
    "\n",
    "This is intended for use in autoregressive CNNs. Using the breadth-first method is faster for training, but the depth-first method is faster for sampling (because it only processes the element under question, caching all results for the next iteration).\n",
    "\n",
    "The technique sacrifices memory efficiency for raw speed.\n",
    "\n",
    "Convolutions must be causal for recurrent sampling parity, but non recurrent parity is acheived regardless of causality, though this is likely less useful."
   ]
  },
  {
   "cell_type": "code",
   "execution_count": 1,
   "metadata": {},
   "outputs": [],
   "source": [
    "import abc\n",
    "import datetime\n",
    "import timeit\n",
    "from dataclasses import dataclass\n",
    "from typing import Optional\n",
    "\n",
    "import matplotlib.colors as clr\n",
    "import matplotlib.pyplot as plt\n",
    "import torch\n",
    "import torch.backends.cudnn\n",
    "import torch.nn as nn\n",
    "import torch.nn.functional as F\n",
    "import torch.version\n",
    "from torch import Tensor\n"
   ]
  },
  {
   "attachments": {},
   "cell_type": "markdown",
   "metadata": {},
   "source": [
    "## Numerical Stability\n",
    "\n",
    "We need to take some extra precautions to ensure numerical stability."
   ]
  },
  {
   "cell_type": "code",
   "execution_count": 2,
   "metadata": {},
   "outputs": [],
   "source": [
    "def stable_softmax(x: Tensor, dim: int = -1, keepdim: bool = True) -> Tensor:\n",
    "    if x.numel() == 0:\n",
    "        return torch.empty_like(x)\n",
    "    x = x - x.max()\n",
    "    return torch.log_softmax(x, -1)\n"
   ]
  },
  {
   "attachments": {},
   "cell_type": "markdown",
   "metadata": {},
   "source": [
    "## DfModule\n",
    "\n",
    "An abstract module to support depth-first forward"
   ]
  },
  {
   "cell_type": "code",
   "execution_count": 3,
   "metadata": {},
   "outputs": [],
   "source": [
    "class DfModule(abc.ABC, nn.Module):\n",
    "    def __init__(self) -> None:\n",
    "        super().__init__()\n",
    "        self._cache: Optional[Tensor] = None\n",
    "\n",
    "    @abc.abstractmethod\n",
    "    def b_forward(self, *img: Tensor) -> Tensor:\n",
    "        raise\n",
    "\n",
    "    @abc.abstractmethod\n",
    "    def d_forward(\n",
    "        self, *img: Tensor, pos: tuple[int, int], clear_cache: bool\n",
    "    ) -> Tensor:\n",
    "        raise\n",
    "\n",
    "    def forward(\n",
    "        self,\n",
    "        *img: Tensor,\n",
    "        pos: Optional[tuple[int, int]] = None,\n",
    "        clear_cache: bool = False,\n",
    "    ) -> Tensor:\n",
    "        if pos == None:\n",
    "            return self.b_forward(*img)\n",
    "        else:\n",
    "            return self.d_forward(*img, pos=pos, clear_cache=clear_cache)\n",
    "\n",
    "    def __call__(\n",
    "        self,\n",
    "        *img: Tensor,\n",
    "        pos: Optional[tuple[int, int]] = None,\n",
    "        clear_cache: bool = False,\n",
    "    ) -> Tensor:\n",
    "        return self.forward(*img, pos=pos, clear_cache=clear_cache)\n"
   ]
  },
  {
   "cell_type": "markdown",
   "metadata": {},
   "source": [
    "## DfElemWise\n",
    "\n",
    "A basic wrapper module to make element-wise operations (e.g. activation functions) depth-first."
   ]
  },
  {
   "cell_type": "code",
   "execution_count": 4,
   "metadata": {},
   "outputs": [],
   "source": [
    "\n",
    "class DfElemwise(DfModule):\n",
    "    def __init__(self, module: nn.Module) -> None:\n",
    "        super().__init__()\n",
    "        self._module = module\n",
    "\n",
    "    def b_forward(self, img: Tensor) -> Tensor:\n",
    "        return self._module(img)\n",
    "\n",
    "    def d_forward(\n",
    "        self, img: Tensor, pos: tuple[int, int], clear_cache: bool\n",
    "    ) -> Tensor:\n",
    "        if clear_cache or self._cache == None or pos == (0, 0):\n",
    "            self._cache = torch.zeros_like(img)\n",
    "        y, x = pos\n",
    "        self._cache[..., y, x] = self._module(img[..., y, x])\n",
    "        return self._cache\n"
   ]
  },
  {
   "attachments": {},
   "cell_type": "markdown",
   "metadata": {},
   "source": [
    "## DfConv2d\n",
    "\n",
    "Defines a basic 2d convolution that supports depth-first forward."
   ]
  },
  {
   "cell_type": "code",
   "execution_count": 5,
   "metadata": {},
   "outputs": [],
   "source": [
    "class DfConv2d(DfModule):\n",
    "    def __init__(\n",
    "        self,\n",
    "        in_channels: int,\n",
    "        out_channels: int,\n",
    "        kernel_size: int,\n",
    "        dilation: int = 1,\n",
    "        masked: bool = True,\n",
    "        device: Optional[torch.device | str] = None,\n",
    "        dtype: Optional[torch.dtype] = None,\n",
    "    ) -> None:\n",
    "        super().__init__()\n",
    "        self._in_channels = in_channels\n",
    "        self._out_channels = out_channels\n",
    "        self._kernel_size = kernel_size\n",
    "        self._dilation = dilation\n",
    "        self._masked = masked\n",
    "        self._device = device\n",
    "        self._dtype = dtype\n",
    "\n",
    "        self.weight = nn.Parameter(\n",
    "            torch.randn(\n",
    "                out_channels,\n",
    "                in_channels,\n",
    "                kernel_size,\n",
    "                kernel_size,\n",
    "                dtype=dtype,\n",
    "                device=device,\n",
    "            )\n",
    "        )\n",
    "\n",
    "    @property\n",
    "    def _dilated_kernel_size(self) -> int:\n",
    "        kernel_size = self._kernel_size\n",
    "        dilation = self._dilation\n",
    "        dk = kernel_size + (kernel_size-1) * (dilation-1)\n",
    "        return dk\n",
    "\n",
    "\n",
    "    def b_forward(self, img: Tensor) -> Tensor:\n",
    "        padding = self._dilated_kernel_size // 2\n",
    "        dilation = self._dilation\n",
    "        return F.conv2d(img, self.weight, padding=padding, dilation=dilation)\n",
    "\n",
    "    def d_forward(self, img: Tensor, pos: tuple[int, int], clear_cache: bool) -> Tensor:\n",
    "        dilation = self._dilation\n",
    "        dilated_kernel_size = self._dilated_kernel_size\n",
    "        padding = dilated_kernel_size // 2\n",
    "\n",
    "        if clear_cache or self._cache == None or self._padded == None or pos == (0, 0):\n",
    "            self._cache = torch.zeros(\n",
    "                img.shape[0],\n",
    "                self._out_channels,\n",
    "                *img.shape[2:],\n",
    "                dtype=img.dtype,\n",
    "                device=img.device,\n",
    "            )\n",
    "            self._padded = F.pad(img, [padding] * 4, mode=\"constant\", value=0)\n",
    "\n",
    "        y, x = pos\n",
    "        startp = None if padding == 0 else padding\n",
    "        endp = None if padding == 0 else -padding\n",
    "        self._padded[..., startp:endp, startp:endp] = img\n",
    "        patch = self._padded[..., y : y + dilated_kernel_size : dilation, x : x + dilated_kernel_size : dilation]\n",
    "\n",
    "        out: Tensor = F.conv2d(patch, self.weight)\n",
    "        self._cache[..., y, x] = out.squeeze()\n",
    "        return self._cache\n",
    "\n",
    "    def forward(\n",
    "        self,\n",
    "        img: Tensor,\n",
    "        pos: Optional[tuple[int, int]] = None,\n",
    "        clear_cache: bool = False,\n",
    "    ) -> Tensor:\n",
    "        if self._masked:\n",
    "            padding = self._dilated_kernel_size // 2\n",
    "            self.weight.data[..., padding + 1 :, :] = 0\n",
    "            self.weight.data[..., padding, padding:] = 0\n",
    "\n",
    "        return super().forward(img, pos=pos, clear_cache=clear_cache)\n"
   ]
  },
  {
   "attachments": {},
   "cell_type": "markdown",
   "metadata": {},
   "source": [
    "## DfAttention\n",
    "\n",
    "A depth-first capable self attention module. Uses DfConv2d for it's convolutions, and also only runs the minimum necessary attention computations.\n",
    "\n",
    "```python\n",
    "i = (y * width) + x\n",
    "attn = q[..., :i, :] @ k[..., i : i+1]\n",
    "px = v[..., :i] @ attn\n",
    "```\n",
    "<img src=\"assets/attention.png\" alt=\"attention\" width=\"50%\">\n"
   ]
  },
  {
   "cell_type": "code",
   "execution_count": 6,
   "metadata": {},
   "outputs": [
    {
     "data": {
      "text/plain": [
       "torch.Size([1, 64, 8, 8])"
      ]
     },
     "execution_count": 6,
     "metadata": {},
     "output_type": "execute_result"
    }
   ],
   "source": [
    "class DfAttention(DfModule):\n",
    "    def __init__(\n",
    "        self,\n",
    "        channels: int,\n",
    "        key_dim: Optional[int] = None,\n",
    "        device: Optional[torch.device | str] = None,\n",
    "        dtype: Optional[torch.dtype] = None,\n",
    "    ) -> None:\n",
    "        super().__init__()\n",
    "        self._channels = channels\n",
    "        if key_dim == None:\n",
    "            key_dim = channels // 8\n",
    "        self._key_dim = key_dim\n",
    "\n",
    "        self._conv = DfConv2d(channels, 2 * key_dim + channels, 1, device=device, dtype=dtype)\n",
    "        self._gamma = nn.Parameter(torch.zeros(1, device=device, dtype=dtype))\n",
    "\n",
    "    def qet_qkv(self, img: Tensor, pos: Optional[tuple[int, int]], clear_cache: bool) -> tuple[torch.Size, Tensor, Tensor, Tensor]:\n",
    "        shape = img.shape\n",
    "        qkv = self._conv(img, pos=pos, clear_cache=clear_cache)\n",
    "        q, k, v = (\n",
    "            t.view(*t.shape[:-2], -1)\n",
    "            for t in qkv.split_with_sizes([self._key_dim] * 2 + [self._channels], -3)\n",
    "        )\n",
    "\n",
    "        return shape, q, k, v\n",
    "\n",
    "\n",
    "    def b_forward(self, img: Tensor) -> Tensor:\n",
    "        shape, q, k, v = self.qet_qkv(img, None, False)\n",
    "        attn = stable_softmax(torch.bmm(q.transpose(-2, -1), k))\n",
    "        attn.triu(1)\n",
    "        out = torch.bmm(v, attn).view(*shape).contiguous()\n",
    "        return out + img\n",
    "\n",
    "\n",
    "    def d_forward(\n",
    "        self, img: Tensor, pos: tuple[int, int], clear_cache: bool\n",
    "    ) -> Tensor:\n",
    "        if self._cache == None or pos == (0, 0) or clear_cache:\n",
    "            self._cache = torch.zeros_like(img)\n",
    "\n",
    "        shape, q, k, v = self.qet_qkv(img, pos, clear_cache)\n",
    "        i = (pos[0] * shape[-1]) + pos[1]\n",
    "        attn = stable_softmax(torch.bmm(q[..., :i].transpose(-2, -1), k[..., i:i+1]))\n",
    "        px = torch.bmm(v[..., :i], attn)\n",
    "        self._cache[..., pos[0], pos[1]] = img[..., pos[0], pos[1]] + px.squeeze()\n",
    "        return self._cache\n",
    "\n",
    "\n",
    "\n",
    "attn = DfAttention(64)\n",
    "attn(torch.randn(1, 64, 8, 8), pos=(7, 7), clear_cache=True).shape\n"
   ]
  },
  {
   "attachments": {},
   "cell_type": "markdown",
   "metadata": {},
   "source": [
    "### Check the parity of a single random pixel\n",
    "\n",
    "You can adjust various parameters to see how it compares between devices / dtypes."
   ]
  },
  {
   "cell_type": "code",
   "execution_count": 7,
   "metadata": {},
   "outputs": [
    {
     "name": "stdout",
     "output_type": "stream",
     "text": [
      "Exactly equal\n"
     ]
    }
   ],
   "source": [
    "with torch.no_grad():\n",
    "    device1 = \"cuda\"\n",
    "    device2 = \"cuda\"\n",
    "\n",
    "    dtype1 = torch.float32\n",
    "    dtype2 = torch.float32\n",
    "\n",
    "    method1 = \"depth\"\n",
    "    method2 = \"breadth\"\n",
    "\n",
    "    hidden_channels = 64\n",
    "    size = (32, 32)\n",
    "    position = (31, 31)\n",
    "\n",
    "    input = torch.randn(8, hidden_channels, *size)\n",
    "\n",
    "    seed = torch.seed()\n",
    "    input1 = input.to(device1, dtype1)\n",
    "    mod1 = DfConv2d(\n",
    "        hidden_channels, hidden_channels, 3, dilation=2, device=device1, dtype=dtype1\n",
    "    ).eval()\n",
    "    # mod1 = DfAttention(\n",
    "    #     hidden_channels, device=device1, dtype=dtype1\n",
    "    # ).eval()\n",
    "    out1 = mod1(input1, pos=position if method1 == \"depth\" else None, clear_cache=True)[\n",
    "        ..., position[0], position[1]\n",
    "    ]\n",
    "    out1 = out1.to(device1, dtype1)\n",
    "\n",
    "    torch.manual_seed(seed)\n",
    "    input2 = input.to(device2, dtype2)\n",
    "    mod2 = DfConv2d(\n",
    "        hidden_channels, hidden_channels, 3, dilation=2, device=device2, dtype=dtype2\n",
    "    ).eval()\n",
    "    # mod2 = DfAttention(\n",
    "    #     hidden_channels, device=device2, dtype=dtype2\n",
    "    # ).eval()\n",
    "    out2 = mod2(input2, pos=position if method2 == \"depth\" else None, clear_cache=True)[\n",
    "        ..., position[0], position[1]\n",
    "    ]\n",
    "    out2 = out2.to(device1, dtype1)\n",
    "\n",
    "    if torch.equal(out1, out2):\n",
    "        print(\"Exactly equal\")\n",
    "    else:\n",
    "        if torch.allclose(out1, out2):\n",
    "            print(\"Close enough according to PyTorch defaults\")\n",
    "        else:\n",
    "            print(\"Not close at all\")\n",
    "        max_diff = (out1.to(device1, dtype1) - out2.to(device1, dtype1)).abs().max()\n",
    "        print(f\"Maximum difference: {max_diff:.5f}\")\n"
   ]
  },
  {
   "attachments": {},
   "cell_type": "markdown",
   "metadata": {},
   "source": [
    "### Sample\n",
    "\n",
    "Defines a very basic autoregressive network and sampling process."
   ]
  },
  {
   "cell_type": "code",
   "execution_count": 8,
   "metadata": {},
   "outputs": [],
   "source": [
    "@torch.no_grad()\n",
    "def sample(\n",
    "    depth_first: bool,\n",
    "    device: str = \"cuda\",\n",
    "    dtype: torch.dtype = torch.float32,\n",
    "    batch_size: int = 16,\n",
    "    img_size: int = 64,\n",
    "    in_channels: int = 3,\n",
    "    hidden_channels: int = 64,\n",
    "    num_classes: int = 256,\n",
    "    kernel_size: int = 3,\n",
    "    seed: Optional[int] = None,\n",
    ") -> tuple[Tensor, int]:\n",
    "    if seed == None:\n",
    "        seed = torch.seed()\n",
    "    else:\n",
    "        torch.manual_seed(seed)\n",
    "\n",
    "    img = (\n",
    "        torch.randint(\n",
    "            0,\n",
    "            num_classes,\n",
    "            (1, in_channels, img_size, img_size),\n",
    "            dtype=dtype,\n",
    "            device=device,\n",
    "        )\n",
    "        / num_classes\n",
    "    ).repeat(batch_size, 1, 1, 1)\n",
    "\n",
    "    conv_in = DfConv2d(\n",
    "        in_channels,\n",
    "        hidden_channels,\n",
    "        kernel_size,\n",
    "        device=device,\n",
    "        dtype=dtype,\n",
    "        masked=True,\n",
    "    ).eval()\n",
    "    act_in = DfElemwise(nn.ReLU())\n",
    "\n",
    "    conv_hid = DfConv2d(\n",
    "        hidden_channels,\n",
    "        hidden_channels,\n",
    "        kernel_size,\n",
    "        dilation=1,\n",
    "        device=device,\n",
    "        dtype=dtype,\n",
    "        masked=True,\n",
    "    ).eval()\n",
    "    act_hid = DfElemwise(nn.ReLU())\n",
    "\n",
    "    attn = DfAttention(hidden_channels, device=device, dtype=dtype)\n",
    "\n",
    "    conv_out = DfConv2d(\n",
    "        hidden_channels,\n",
    "        num_classes * in_channels,\n",
    "        kernel_size=1,\n",
    "        device=device,\n",
    "        dtype=dtype,\n",
    "        masked=False,\n",
    "    ).eval()\n",
    "    act_out = DfElemwise(nn.ReLU())\n",
    "\n",
    "    for y in range(img_size):\n",
    "        for x in range(img_size):\n",
    "            pos = (y, x) if depth_first else None\n",
    "            o = conv_in(img, pos=pos)\n",
    "            o = act_in(o, pos=pos)\n",
    "\n",
    "            o = conv_hid(o, pos=pos)\n",
    "            o = act_hid(o, pos=pos)\n",
    "\n",
    "            o = attn(o, pos=pos)\n",
    "\n",
    "            o = conv_out(o, pos=pos)\n",
    "            o = act_out(o, pos=pos)\n",
    "\n",
    "            px = (\n",
    "                o[..., y, x].view(batch_size, in_channels, num_classes).argmax(-1)\n",
    "                / num_classes\n",
    "            ) + 1e-15\n",
    "\n",
    "            img[..., y, x] = px\n",
    "\n",
    "    plt.imshow(img[0].to(torch.float32).permute(1, 2, 0).cpu(), norm=clr.Normalize())\n",
    "    return img, seed\n"
   ]
  },
  {
   "cell_type": "code",
   "execution_count": 9,
   "metadata": {},
   "outputs": [],
   "source": [
    "# Just abstracting some stuff to make timed sampling convenient\n",
    "\n",
    "\n",
    "@dataclass\n",
    "class Ctx:\n",
    "    img: Optional[Tensor] = None\n",
    "    seed: Optional[int] = None\n",
    "\n",
    "\n",
    "ctx = Ctx()\n",
    "\n",
    "\n",
    "def get_callable(depth_first: bool, ctx: Ctx = ctx, **kwargs):\n",
    "    def call():\n",
    "        ctx.img, ctx.seed = sample(depth_first=depth_first, seed=ctx.seed, **kwargs)\n",
    "\n",
    "    return call\n",
    "\n",
    "\n",
    "def tsdelta(seconds: float) -> datetime.timedelta:\n",
    "    return datetime.datetime.fromtimestamp(seconds) - datetime.datetime.fromtimestamp(0)\n",
    "\n",
    "\n",
    "def strfdelta(tdelta: datetime.timedelta | float, fmt: str) -> str:\n",
    "    if isinstance(tdelta, (float, int)):\n",
    "        tdelta = tsdelta(tdelta)\n",
    "    hours, rem = divmod(tdelta.seconds, 60 * 60)\n",
    "    minutes, seconds = divmod(rem, 60)\n",
    "    return fmt.format(d=tdelta.days, h=hours, m=minutes, s=seconds)\n",
    "\n",
    "\n",
    "def fmttime(time: float) -> str:\n",
    "    return strfdelta(time, \"{h:02}:{m:02}:{s:02}\")\n"
   ]
  },
  {
   "attachments": {},
   "cell_type": "markdown",
   "metadata": {},
   "source": [
    "#### Depth First\n",
    "\n",
    "Runs the sampler depth-first"
   ]
  },
  {
   "cell_type": "code",
   "execution_count": 10,
   "metadata": {},
   "outputs": [
    {
     "name": "stdout",
     "output_type": "stream",
     "text": [
      "Sample took 00:00:06 to complete\n"
     ]
    },
    {
     "data": {
      "image/png": "[encoded data removed]",
      "text/plain": [
       "<Figure size 640x480 with 1 Axes>"
      ]
     },
     "metadata": {},
     "output_type": "display_data"
    }
   ],
   "source": [
    "time = timeit.timeit(get_callable(True, batch_size=64), number=1)\n",
    "img_d = ctx.img\n",
    "print(f\"Sample took {fmttime(time)} to complete\")\n"
   ]
  },
  {
   "attachments": {},
   "cell_type": "markdown",
   "metadata": {},
   "source": [
    "#### Breadth First\n",
    "\n",
    "Runs the sampler breadth-first"
   ]
  },
  {
   "cell_type": "code",
   "execution_count": 11,
   "metadata": {},
   "outputs": [
    {
     "name": "stdout",
     "output_type": "stream",
     "text": [
      "Sample took 00:02:12 to complete\n"
     ]
    },
    {
     "data": {
      "image/png": "[encoded data removed]",
      "text/plain": [
       "<Figure size 640x480 with 1 Axes>"
      ]
     },
     "metadata": {},
     "output_type": "display_data"
    }
   ],
   "source": [
    "# We'll use a smaller batch size here, because we can't handle as much\n",
    "time = timeit.timeit(get_callable(False, batch_size=16), number=1)\n",
    "img_b = ctx.img\n",
    "print(f\"Sample took {fmttime(time)} to complete\")\n"
   ]
  },
  {
   "attachments": {},
   "cell_type": "markdown",
   "metadata": {},
   "source": [
    "#### Verify Parity\n",
    "\n",
    "Verifies the parity between the depth-first and breadth-first methods.\n",
    "\n",
    "PyTorch may process slices vs complete batches slightly differently, leading to minor differences in output at each layer. These differences will accumulate through the forward pass and cause the 2 methods to diverge if the depth-first approach doesn't have a large enough batch-size / channel depth.\n",
    "\n",
    "> In particular, let A and B be 3D tensors with the dimensions suitable for batched matrix multiplication. Then (A@B)[0] (the first element of the batched result) is not guaranteed to be bitwise identical to A[0]@B[0] (the matrix product of the first elements of the input batches) even though mathematically it’s an identical computation.\n",
    ">\n",
    "> https://pytorch.org/docs/stable/notes/numerical_accuracy.html#batched-computations-or-slice-computations\n",
    "\n"
   ]
  },
  {
   "cell_type": "code",
   "execution_count": 12,
   "metadata": {},
   "outputs": [
    {
     "name": "stdout",
     "output_type": "stream",
     "text": [
      "Samples are exactly equal!\n"
     ]
    }
   ],
   "source": [
    "assert img_d is not None and img_b is not None\n",
    "\n",
    "img_d = img_d[0].repeat(img_b.shape[0], 1, 1, 1)\n",
    "if torch.equal(img_d, img_b):\n",
    "    print(\"Samples are exactly equal!\")\n",
    "elif torch.allclose(img_d, img_b):\n",
    "    print(\"Samples are close enough according to PyTorch defaults!\")\n",
    "else:\n",
    "    print(\"Samples are not close!\")\n",
    "    plt.imshow(\n",
    "        torch.isclose(img_d, img_b).all(0).all(0, keepdim=True).permute(1, 2, 0).cpu(),\n",
    "        norm=clr.Normalize(),\n",
    "    )\n"
   ]
  }
 ],
 "metadata": {
  "kernelspec": {
   "display_name": ".venv",
   "language": "python",
   "name": "python3"
  },
  "language_info": {
   "codemirror_mode": {
    "name": "ipython",
    "version": 3
   },
   "file_extension": ".py",
   "mimetype": "text/x-python",
   "name": "python",
   "nbconvert_exporter": "python",
   "pygments_lexer": "ipython3",
   "version": "3.10.6"
  },
  "orig_nbformat": 4
 },
 "nbformat": 4,
 "nbformat_minor": 2
}
