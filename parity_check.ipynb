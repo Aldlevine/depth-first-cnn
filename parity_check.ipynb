{
 "cells": [
  {
   "cell_type": "code",
   "execution_count": 1,
   "metadata": {},
   "outputs": [],
   "source": [
    "import abc\n",
    "import datetime\n",
    "import timeit\n",
    "from dataclasses import dataclass\n",
    "from typing import Literal, Optional\n",
    "\n",
    "import matplotlib.colors as clr\n",
    "import matplotlib.pyplot as plt\n",
    "import torch\n",
    "import torch.backends.cudnn\n",
    "import torch.nn as nn\n",
    "import torch.nn.functional as F\n",
    "import torch.version\n",
    "from torch import Tensor\n",
    "\n",
    "from model.pixelcnn import PixelCNN\n",
    "from modules.df_attention import DfAttention\n",
    "from modules.df_conv2d import DfConv2d\n",
    "from modules.df_elemwise import DfElemwise\n",
    "from modules.df_module import check_pixel_parity\n",
    "from modules.df_residualize import DfResidualize\n",
    "from modules.df_sequential import DfSequential\n"
   ]
  },
  {
   "cell_type": "code",
   "execution_count": 2,
   "metadata": {},
   "outputs": [
    {
     "name": "stdout",
     "output_type": "stream",
     "text": [
      "PixelCNN\n",
      "Equal 3.81%\n",
      "Close 81.87%\n",
      "MaxDiff 2.32e-02\n",
      "A:\n",
      " Range [-2.67e+02, 2.41e+02]\n",
      " Mean -4.00e+00\n",
      " Var 5.80e+03    \n",
      "B:\n",
      " Range [-2.67e+02, 2.41e+02]\n",
      " Mean -4.00e+00\n",
      " Var 5.80e+03    \n",
      "Diff:\n",
      " Range [-1.77e-02, 2.32e-02]\n",
      " Mean 2.99e-05\n",
      " Var 6.94e-06    \n",
      "\n",
      "\n"
     ]
    }
   ],
   "source": [
    "dtype = torch.float32\n",
    "device = \"cuda\"\n",
    "opts = {\"dtype1\": dtype, \"dtype2\": dtype, \"device1\": device, \"device2\": device}\n",
    "\n",
    "mod = PixelCNN(1, 64)\n",
    "check_pixel_parity(mod, (1, 28, 28), **opts, batch_size=1)"
   ]
  },
  {
   "cell_type": "code",
   "execution_count": 3,
   "metadata": {},
   "outputs": [],
   "source": [
    "@torch.no_grad()\n",
    "def sample(\n",
    "    depth_first: bool,\n",
    "    device: str = \"cuda\",\n",
    "    dtype: torch.dtype = torch.float32,\n",
    "    batch_size: int = 16,\n",
    "    img_size: int = 28,\n",
    "    in_channels: int = 1,\n",
    "    hidden_channels: int = 64,\n",
    "    num_classes: int = 256,\n",
    "    kernel_size: int = 3,\n",
    "    seed: Optional[int] = None,\n",
    ") -> tuple[Tensor, int]:\n",
    "    if seed == None:\n",
    "        seed = torch.seed()\n",
    "    else:\n",
    "        torch.manual_seed(seed)\n",
    "\n",
    "    img = (\n",
    "        torch.randint(\n",
    "            0,\n",
    "            num_classes,\n",
    "            (1, in_channels, img_size, img_size),\n",
    "            dtype=dtype,\n",
    "            device=device,\n",
    "        )\n",
    "        / num_classes\n",
    "    ).repeat(batch_size, 1, 1, 1)\n",
    "\n",
    "    model = PixelCNN(\n",
    "        in_channels, hidden_channels, kernel_size=kernel_size, num_classes=num_classes\n",
    "    ).to(device=torch.device(device), dtype=dtype)\n",
    "\n",
    "    for y in range(img_size):\n",
    "        for x in range(img_size):\n",
    "            pos = (y, x) if depth_first else None\n",
    "            o = model(img, pos=pos)\n",
    "\n",
    "            px = o[..., y, x].view(batch_size, in_channels, num_classes).argmax(-1)\n",
    "\n",
    "            img[..., y, x] = px\n",
    "    # img = model.sample(shape=(batch_size, in_channels, img_size, img_size), depth_first=depth_first)\n",
    "\n",
    "    plt.imshow(img[0].to(torch.float32).permute(1, 2, 0).cpu(), norm=clr.Normalize())\n",
    "    return img, seed\n"
   ]
  },
  {
   "cell_type": "code",
   "execution_count": 4,
   "metadata": {},
   "outputs": [],
   "source": [
    "# Just abstracting some stuff to make timed sampling convenient\n",
    "\n",
    "\n",
    "@dataclass\n",
    "class Ctx:\n",
    "    img: Optional[Tensor] = None\n",
    "    seed: Optional[int] = None\n",
    "\n",
    "\n",
    "ctx = Ctx()\n",
    "\n",
    "\n",
    "def get_callable(depth_first: bool, ctx: Ctx = ctx, **kwargs):\n",
    "    def call():\n",
    "        ctx.img, ctx.seed = sample(depth_first=depth_first, seed=ctx.seed, **kwargs)\n",
    "\n",
    "    return call\n",
    "\n",
    "\n",
    "def tsdelta(seconds: float) -> datetime.timedelta:\n",
    "    return datetime.datetime.fromtimestamp(seconds) - datetime.datetime.fromtimestamp(0)\n",
    "\n",
    "\n",
    "def strfdelta(tdelta: datetime.timedelta | float, fmt: str) -> str:\n",
    "    if isinstance(tdelta, (float, int)):\n",
    "        tdelta = tsdelta(tdelta)\n",
    "    hours, rem = divmod(tdelta.seconds, 60 * 60)\n",
    "    minutes, seconds = divmod(rem, 60)\n",
    "    return fmt.format(d=tdelta.days, h=hours, m=minutes, s=seconds)\n",
    "\n",
    "\n",
    "def fmttime(time: float) -> str:\n",
    "    return strfdelta(time, \"{h:02}:{m:02}:{s:02}\")\n"
   ]
  },
  {
   "cell_type": "markdown",
   "metadata": {},
   "source": [
    "#### Depth First\n",
    "\n",
    "Runs the sampler depth-first"
   ]
  },
  {
   "cell_type": "code",
   "execution_count": 5,
   "metadata": {},
   "outputs": [
    {
     "name": "stdout",
     "output_type": "stream",
     "text": [
      "Sample took 00:00:17 to complete\n"
     ]
    },
    {
     "data": {
      "image/png": "[encoded data removed]",
      "text/plain": [
       "<Figure size 640x480 with 1 Axes>"
      ]
     },
     "metadata": {},
     "output_type": "display_data"
    }
   ],
   "source": [
    "time = timeit.timeit(get_callable(True, batch_size=16, img_size=28), number=1)\n",
    "img_d = ctx.img\n",
    "print(f\"Sample took {fmttime(time)} to complete\")\n"
   ]
  },
  {
   "cell_type": "markdown",
   "metadata": {},
   "source": [
    "#### Breadth First\n",
    "\n",
    "Runs the sampler breadth-first\n",
    "\n",
    "We'll use a smaller batch size here, because we can't handle as much. Besides, less is more."
   ]
  },
  {
   "cell_type": "code",
   "execution_count": 6,
   "metadata": {},
   "outputs": [
    {
     "name": "stdout",
     "output_type": "stream",
     "text": [
      "Sample took 00:00:18 to complete\n"
     ]
    },
    {
     "data": {
      "image/png": "[encoded data removed]",
      "text/plain": [
       "<Figure size 640x480 with 1 Axes>"
      ]
     },
     "metadata": {},
     "output_type": "display_data"
    }
   ],
   "source": [
    "time = timeit.timeit(get_callable(False, batch_size=16, img_size=28), number=1)\n",
    "img_b = ctx.img\n",
    "print(f\"Sample took {fmttime(time)} to complete\")\n"
   ]
  },
  {
   "cell_type": "markdown",
   "metadata": {},
   "source": [
    "#### Verify Parity\n",
    "\n",
    "Verifies the parity between the depth-first and breadth-first methods.\n",
    "\n",
    "PyTorch may process slices vs complete batches slightly differently, leading to minor differences in output at each layer. These differences will accumulate through the forward pass and cause the 2 methods to diverge if the depth-first approach doesn't have a large enough batch-size / channel depth.\n",
    "\n",
    "> In particular, let A and B be 3D tensors with the dimensions suitable for batched matrix multiplication. Then (A@B)[0] (the first element of the batched result) is not guaranteed to be bitwise identical to A[0]@B[0] (the matrix product of the first elements of the input batches) even though mathematically it’s an identical computation.\n",
    ">\n",
    "> https://pytorch.org/docs/stable/notes/numerical_accuracy.html#batched-computations-or-slice-computations\n",
    "\n"
   ]
  },
  {
   "cell_type": "code",
   "execution_count": 7,
   "metadata": {},
   "outputs": [
    {
     "name": "stdout",
     "output_type": "stream",
     "text": [
      "Samples are exactly equal!\n"
     ]
    }
   ],
   "source": [
    "assert img_d is not None and img_b is not None\n",
    "\n",
    "img_d = img_d[0].repeat(img_b.shape[0], 1, 1, 1)\n",
    "if torch.equal(img_d, img_b):\n",
    "    print(\"Samples are exactly equal!\")\n",
    "elif torch.allclose(img_d, img_b):\n",
    "    print(\"Samples are close enough according to PyTorch defaults!\")\n",
    "else:\n",
    "    print(\"Samples are not close!\")\n",
    "    plt.imshow(\n",
    "        torch.isclose(img_d, img_b).all(0).all(0, keepdim=True).permute(1, 2, 0).cpu(),\n",
    "        norm=clr.Normalize(),\n",
    "    )\n"
   ]
  }
 ],
 "metadata": {
  "kernelspec": {
   "display_name": ".venv",
   "language": "python",
   "name": "python3"
  },
  "language_info": {
   "codemirror_mode": {
    "name": "ipython",
    "version": 3
   },
   "file_extension": ".py",
   "mimetype": "text/x-python",
   "name": "python",
   "nbconvert_exporter": "python",
   "pygments_lexer": "ipython3",
   "version": "3.10.6"
  },
  "orig_nbformat": 4
 },
 "nbformat": 4,
 "nbformat_minor": 2
}
